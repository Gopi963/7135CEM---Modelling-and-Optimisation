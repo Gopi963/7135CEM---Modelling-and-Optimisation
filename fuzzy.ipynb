{
  "nbformat": 4,
  "nbformat_minor": 0,
  "metadata": {
    "colab": {
      "provenance": []
    },
    "kernelspec": {
      "name": "python3",
      "display_name": "Python 3"
    },
    "language_info": {
      "name": "python"
    }
  },
  "cells": [
    {
      "cell_type": "code",
      "execution_count": null,
      "metadata": {
        "id": "sfPokWfNQtvN",
        "outputId": "ccef35fc-09e4-4996-d4f5-3fd9e027c53d",
        "colab": {
          "base_uri": "https://localhost:8080/",
          "height": 384
        }
      },
      "outputs": [
        {
          "output_type": "error",
          "ename": "ModuleNotFoundError",
          "evalue": "No module named 'fuzzylite'",
          "traceback": [
            "\u001b[0;31m---------------------------------------------------------------------------\u001b[0m",
            "\u001b[0;31mModuleNotFoundError\u001b[0m                       Traceback (most recent call last)",
            "\u001b[0;32m<ipython-input-1-12f2d51f1ac8>\u001b[0m in \u001b[0;36m<cell line: 1>\u001b[0;34m()\u001b[0m\n\u001b[0;32m----> 1\u001b[0;31m \u001b[0;32mimport\u001b[0m \u001b[0mfuzzylite\u001b[0m \u001b[0;32mas\u001b[0m \u001b[0mfl\u001b[0m\u001b[0;34m\u001b[0m\u001b[0;34m\u001b[0m\u001b[0m\n\u001b[0m\u001b[1;32m      2\u001b[0m \u001b[0;32mimport\u001b[0m \u001b[0mmatplotlib\u001b[0m\u001b[0;34m.\u001b[0m\u001b[0mpyplot\u001b[0m \u001b[0;32mas\u001b[0m \u001b[0mplt\u001b[0m\u001b[0;34m\u001b[0m\u001b[0;34m\u001b[0m\u001b[0m\n\u001b[1;32m      3\u001b[0m \u001b[0;34m\u001b[0m\u001b[0m\n\u001b[1;32m      4\u001b[0m \u001b[0;31m# Initialize the fuzzy logic engine\u001b[0m\u001b[0;34m\u001b[0m\u001b[0;34m\u001b[0m\u001b[0m\n\u001b[1;32m      5\u001b[0m \u001b[0mengine\u001b[0m \u001b[0;34m=\u001b[0m \u001b[0mfl\u001b[0m\u001b[0;34m.\u001b[0m\u001b[0mEngine\u001b[0m\u001b[0;34m(\u001b[0m\u001b[0mname\u001b[0m\u001b[0;34m=\u001b[0m\u001b[0;34m\"AssistiveCareFLC\"\u001b[0m\u001b[0;34m)\u001b[0m\u001b[0;34m\u001b[0m\u001b[0;34m\u001b[0m\u001b[0m\n",
            "\u001b[0;31mModuleNotFoundError\u001b[0m: No module named 'fuzzylite'",
            "",
            "\u001b[0;31m---------------------------------------------------------------------------\u001b[0;32m\nNOTE: If your import is failing due to a missing package, you can\nmanually install dependencies using either !pip or !apt.\n\nTo view examples of installing some common dependencies, click the\n\"Open Examples\" button below.\n\u001b[0;31m---------------------------------------------------------------------------\u001b[0m\n"
          ],
          "errorDetails": {
            "actions": [
              {
                "action": "open_url",
                "actionText": "Open Examples",
                "url": "/notebooks/snippets/importing_libraries.ipynb"
              }
            ]
          }
        }
      ],
      "source": [
        "import fuzzylite as fl\n",
        "import matplotlib.pyplot as plt\n",
        "\n",
        "# Initialize the fuzzy logic engine\n",
        "engine = fl.Engine(name=\"AssistiveCareFLC\")\n",
        "\n",
        "# Define the input variable for temperature\n",
        "temperature = fl.InputVariable(name=\"Temperature\", minimum=0.0, maximum=40.0)\n",
        "temperature.terms.append(fl.Trapezoid(\"Cold\", 0.0, 0.0, 10.0, 15.0))\n",
        "temperature.terms.append(fl.Triangle(\"Comfortable\", 15.0, 20.0, 25.0))\n",
        "temperature.terms.append(fl.Trapezoid(\"Hot\", 25.0, 30.0, 40.0, 40.0))\n",
        "engine.input_variables.append(temperature)\n",
        "\n",
        "# Define the input variable for light level\n",
        "light_level = fl.InputVariable(name=\"Light_Level\", minimum=0, maximum=1000)\n",
        "light_level.terms.append(fl.Trapezoid(\"Dark\", 0, 0, 100, 300))\n",
        "light_level.terms.append(fl.Triangle(\"Medium\", 200, 500, 800))\n",
        "light_level.terms.append(fl.Trapezoid(\"Bright\", 600, 900, 1000, 1000))\n",
        "engine.input_variables.append(light_level)\n",
        "\n",
        "# Define the output variable for heater\n",
        "heater = fl.OutputVariable(name=\"Heater\", minimum=0.0, maximum=100.0)\n",
        "heater.defuzzifier = fl.Centroid(100)\n",
        "heater.aggregation = fl.Maximum()\n",
        "heater.terms.append(fl.Triangle(\"Off\", 0.0, 0.0, 25.0))\n",
        "heater.terms.append(fl.Triangle(\"Low\", 15.0, 50.0, 85.0))\n",
        "heater.terms.append(fl.Triangle(\"High\", 75.0, 100.0, 100.0))\n",
        "engine.output_variables.append(heater)\n",
        "\n",
        "# Define the output variable for lights\n",
        "lights = fl.OutputVariable(name=\"Lights\", minimum=0.0, maximum=100.0)\n",
        "lights.defuzzifier = fl.Centroid(100)\n",
        "lights.aggregation = fl.Maximum()\n",
        "lights.terms.append(fl.Triangle(\"Dim\", 0.0, 0.0, 25.0))\n",
        "lights.terms.append(fl.Triangle(\"Moderate\", 15.0, 50.0, 85.0))\n",
        "lights.terms.append(fl.Triangle(\"Bright\", 75.0, 100.0, 100.0))\n",
        "engine.output_variables.append(lights)\n",
        "\n",
        "# Define rule blocks and add rules\n",
        "rule_block = fl.RuleBlock()\n",
        "rule_block.conjunction = fl.Minimum()\n",
        "rule_block.disjunction = fl.Maximum()\n",
        "rule_block.implication = fl.Minimum()\n",
        "rule_block.activation = fl.General()\n",
        "rule_block.rules.append(fl.Rule.create(\"if Temperature is Cold then Heater is High\", engine))\n",
        "rule_block.rules.append(fl.Rule.create(\"if Temperature is Comfortable then Heater is Off\", engine))\n",
        "rule_block.rules.append(fl.Rule.create(\"if Temperature is Hot then Heater is Off\", engine))\n",
        "rule_block.rules.append(fl.Rule.create(\"if Light_Level is Dark then Lights is Bright\", engine))\n",
        "rule_block.rules.append(fl.Rule.create(\"if Light_Level is Medium then Lights is Moderate\", engine))\n",
        "rule_block.rules.append(fl.Rule.create(\"if Light_Level is Bright then Lights is Dim\", engine))\n",
        "engine.rule_blocks.append(rule_block)\n",
        "\n",
        "# Function to process the FLC and print results\n",
        "def process_and_print_results(temp_value, light_value):\n",
        "    temperature.value = temp_value\n",
        "    light_level.value = light_value\n",
        "    engine.process()\n",
        "    print(f\"Temperature: {temp_value}, Light Level: {light_value}\")\n",
        "    print(f\"Heater Output Level: {heater.value}\")\n",
        "    print(f\"Lights Output Level: {lights.value}\")\n",
        "\n",
        "# Example simulation\n",
        "temperature_value = 18  # Example temperature\n",
        "light_level_value = 150  # Example light level\n",
        "process_and_print_results(temperature_value, light_level_value)\n",
        "\n",
        "# Visualization (optional)\n",
        "def plot_fuzzy_sets(variable, title):\n",
        "    plt.figure(figsize=(10, 6))\n",
        "    for term in variable.terms:\n",
        "        x = list(range(int(variable.minimum), int(variable.maximum) + 1))\n",
        "        y = [term.membership(v) for v in x]\n",
        "        plt.plot(x, y, label=term.name)\n",
        "    plt.title(title)\n",
        "    plt.xlabel('Value')\n",
        "    plt.ylabel('Membership')\n",
        "    plt.legend()\n",
        "    plt.show()\n",
        "\n",
        "plot_fuzzy_sets(temperature, \"Temperature Fuzzy Sets\")\n",
        "plot_fuzzy_sets(light_level, \"Light Level Fuzzy Sets\")\n",
        "plot_fuzzy_sets(heater, \"Heater Output Fuzzy Sets\")\n",
        "plot_fuzzy_sets(lights, \"Lights Output Fuzzy Sets\")\n",
        "\n",
        "# Further testing with different inputs\n",
        "test_cases = [\n",
        "    (10, 100),  # Cold and Dark\n",
        "    (20, 600),  # Comfortable and Medium\n",
        "    (30, 900)   # Hot and Bright\n",
        "]\n",
        "\n",
        "for temp, light in test_cases:\n",
        "    process_and_print_results(temp, light)\n"
      ]
    }
  ]
}